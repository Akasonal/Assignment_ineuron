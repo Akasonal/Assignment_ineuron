{
 "cells": [
  {
   "cell_type": "markdown",
   "metadata": {},
   "source": [
    "#### Q 1.1"
   ]
  },
  {
   "cell_type": "code",
   "execution_count": 1,
   "metadata": {},
   "outputs": [
    {
     "name": "stdout",
     "output_type": "stream",
     "text": [
      "56.99506557588999\n"
     ]
    }
   ],
   "source": [
    "class Parent:\n",
    "    def __init__(self,a,b,c):\n",
    "        self.a=a\n",
    "        self.b=b\n",
    "        self.c=c\n",
    "class Subclass(Parent):\n",
    "    def Area(self):\n",
    "        s=(self.a + self.b + self.c)/2\n",
    "        return(s*(s-self.a)*(s-self.b)*(s-self.c))**0.5\n",
    "Result=Subclass(13,12,10)\n",
    "print(Result.Area())"
   ]
  },
  {
   "cell_type": "markdown",
   "metadata": {},
   "source": [
    "#### q 1.2\n"
   ]
  },
  {
   "cell_type": "code",
   "execution_count": 2,
   "metadata": {},
   "outputs": [
    {
     "name": "stdout",
     "output_type": "stream",
     "text": [
      "['Akhil', 'Hindustan', 'Bharat', 'kumar']\n"
     ]
    }
   ],
   "source": [
    "list_2=[]\n",
    "def filter_long_word(list_1,a):\n",
    "    for i in list_1:\n",
    "        if len(i)>a:\n",
    "            list_2.append(i)\n",
    "    else:\n",
    "        pass\n",
    "    print(list_2)\n",
    "filter_long_word([\"Akhil\",\"abc\",\"Hindustan\",\"Bharat\",\"ab\",\"a\",\"anan\",\"kumar\"],4)"
   ]
  },
  {
   "cell_type": "markdown",
   "metadata": {},
   "source": [
    "#### Q 2.1\n"
   ]
  },
  {
   "cell_type": "code",
   "execution_count": 3,
   "metadata": {},
   "outputs": [
    {
     "name": "stdout",
     "output_type": "stream",
     "text": [
      "[5, 2, 9, 6, 1]\n"
     ]
    }
   ],
   "source": [
    "list_2=[]\n",
    "def mymap(list_1):\n",
    "    for i in list_1:\n",
    "        list_2.append(len(i))\n",
    "    print(list_2)\n",
    "mymap([\"Akhil\",\"PM\",\"Hindustan\",\"Rafale\",\"Z\"])\n",
    "        "
   ]
  },
  {
   "cell_type": "markdown",
   "metadata": {},
   "source": [
    "#### Q2.2\n"
   ]
  },
  {
   "cell_type": "code",
   "execution_count": 6,
   "metadata": {},
   "outputs": [
    {
     "name": "stdout",
     "output_type": "stream",
     "text": [
      "Gjfg\n",
      "G\n"
     ]
    },
    {
     "data": {
      "text/plain": [
       "False"
      ]
     },
     "execution_count": 6,
     "metadata": {},
     "output_type": "execute_result"
    }
   ],
   "source": [
    "def Vowel(a):\n",
    "    for j in [\"a\",\"e\",\"i\",\"o\",'u',\"A\",\"E\",\"I\",\"O\",\"U\"]:\n",
    "        if a==j:\n",
    "            return True\n",
    "    else:\n",
    "            return False\n",
    "a=input()[0]\n",
    "print(a)\n",
    "Vowel(a)"
   ]
  },
  {
   "cell_type": "code",
   "execution_count": null,
   "metadata": {},
   "outputs": [],
   "source": []
  }
 ],
 "metadata": {
  "kernelspec": {
   "display_name": "Python 3",
   "language": "python",
   "name": "python3"
  },
  "language_info": {
   "codemirror_mode": {
    "name": "ipython",
    "version": 3
   },
   "file_extension": ".py",
   "mimetype": "text/x-python",
   "name": "python",
   "nbconvert_exporter": "python",
   "pygments_lexer": "ipython3",
   "version": "3.7.6"
  }
 },
 "nbformat": 4,
 "nbformat_minor": 4
}
